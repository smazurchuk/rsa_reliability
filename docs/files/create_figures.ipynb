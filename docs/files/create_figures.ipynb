{
 "cells": [
  {
   "cell_type": "markdown",
   "id": "cceb7f0b-88d1-4db5-b733-9acda82375a4",
   "metadata": {},
   "source": [
    "# Overview\n",
    "\n",
    "This script generates the figures found in the paper"
   ]
  },
  {
   "cell_type": "code",
   "execution_count": 2,
   "id": "14cffe3d-5d99-48ba-92ac-ffad70ea9140",
   "metadata": {},
   "outputs": [
    {
     "ename": "NameError",
     "evalue": "name 'piplite' is not defined",
     "output_type": "error",
     "traceback": [
      "\u001b[0;31m---------------------------------------------------------------------------\u001b[0m",
      "\u001b[0;31mNameError\u001b[0m                                 Traceback (most recent call last)",
      "\u001b[0;32m/tmp/ipykernel_250/3144031804.py\u001b[0m in \u001b[0;36m<module>\u001b[0;34m\u001b[0m\n\u001b[1;32m      3\u001b[0m \u001b[0;32mimport\u001b[0m \u001b[0mpandas\u001b[0m \u001b[0;32mas\u001b[0m \u001b[0mpd\u001b[0m\u001b[0;34m\u001b[0m\u001b[0;34m\u001b[0m\u001b[0m\n\u001b[1;32m      4\u001b[0m \u001b[0;32mimport\u001b[0m \u001b[0mmatplotlib\u001b[0m\u001b[0;34m.\u001b[0m\u001b[0mpyplot\u001b[0m \u001b[0;32mas\u001b[0m \u001b[0mplt\u001b[0m\u001b[0;34m\u001b[0m\u001b[0;34m\u001b[0m\u001b[0m\n\u001b[0;32m----> 5\u001b[0;31m \u001b[0;32mawait\u001b[0m \u001b[0mpiplite\u001b[0m\u001b[0;34m.\u001b[0m\u001b[0minstall\u001b[0m\u001b[0;34m(\u001b[0m\u001b[0;34m\"seaborn\"\u001b[0m\u001b[0;34m)\u001b[0m\u001b[0;34m\u001b[0m\u001b[0;34m\u001b[0m\u001b[0m\n\u001b[0m\u001b[1;32m      6\u001b[0m \u001b[0;32mawait\u001b[0m \u001b[0mpiplite\u001b[0m\u001b[0;34m.\u001b[0m\u001b[0minstall\u001b[0m\u001b[0;34m(\u001b[0m\u001b[0;34m\"openpyxl\"\u001b[0m\u001b[0;34m)\u001b[0m\u001b[0;34m\u001b[0m\u001b[0;34m\u001b[0m\u001b[0m\n\u001b[1;32m      7\u001b[0m \u001b[0;32mimport\u001b[0m \u001b[0mseaborn\u001b[0m \u001b[0;32mas\u001b[0m \u001b[0msns\u001b[0m\u001b[0;34m\u001b[0m\u001b[0;34m\u001b[0m\u001b[0m\n",
      "\u001b[0;31mNameError\u001b[0m: name 'piplite' is not defined"
     ]
    }
   ],
   "source": [
    "import piplite\n",
    "import numpy as np\n",
    "import pandas as pd\n",
    "import matplotlib.pyplot as plt\n",
    "await piplite.install(\"seaborn\")\n",
    "await piplite.install(\"openpyxl\")\n",
    "import seaborn as sns\n",
    "sns.set(rc = {'figure.figsize':(16,8)})\n",
    "sns.set_theme(style=\"whitegrid\")\n",
    "'''\n",
    "Set some plot parameters\n",
    "'''\n",
    "newRCparams = {\n",
    "    'font.weight': 'bold',\n",
    "    'axes.titlesize':'xx-large',\n",
    "    'axes.titleweight':'bold',\n",
    "    'axes.labelsize':'xx-large',\n",
    "    'axes.labelweight':'bold',\n",
    "    'axes.labelpad': 30,\n",
    "    'xtick.labelsize':'large',\n",
    "    'ytick.labelsize':'large',\n",
    "    'legend.title_fontsize': 'large',\n",
    "    'legend.fontsize':'large',\n",
    "    'legend.markerscale':2,\n",
    "    'mathtext.default': 'bf'\n",
    "    }\n",
    "plt.rcParams.update(newRCparams)\n",
    "palette = sns.color_palette(n_colors=6)\n",
    "\n",
    "# Load in excel data\n",
    "dfs = pd.read_excel('data/soe_ale_small.xlsx',sheet_name=None)"
   ]
  },
  {
   "cell_type": "code",
   "execution_count": null,
   "id": "7a6c3c7e-51c0-466a-b35d-792e70b5c808",
   "metadata": {},
   "outputs": [],
   "source": [
    "'''\n",
    "This generates the figure with cronbachs resampled and extrapolates\n",
    "out icc\n",
    "'''\n",
    "def sbp(n,r):\n",
    "    # Spearman-Brown prophecy formula\n",
    "    out = (n*r) / (1 + (n-1)*r)\n",
    "    return out\n",
    "x = np.arange(1,100)\n",
    "preds = [[sbp(n,dfs['icc2_values'].icc2[k]) for n in x] for k in range(6)]\n",
    "plt.figure()\n",
    "ax1 = sns.scatterplot(x='numSubj',y='crona',hue='numP', palette=palette,\n",
    "                      data=dfs['figure_1_cronbach'].groupby(['numP','numSubj']).mean())\n",
    "sns.lineplot(x=x,y=preds[0],color=palette[0]); sns.lineplot(x=x,y=preds[1],color=palette[1])\n",
    "sns.lineplot(x=x,y=preds[2],color=palette[2]); sns.lineplot(x=x,y=preds[3],color=palette[3])\n",
    "sns.lineplot(x=x,y=preds[4],color=palette[4]); sns.lineplot(x=x,y=preds[5],color=palette[5])\n",
    "plt.legend(title='Number of Presentations')\n",
    "plt.legend(title='Number of Presentations')\n",
    "plt.xlabel('Number of Participants'); plt.ylabel(\"Cronbach's Alpha\")\n",
    "plt.title('Reliability as a function of Stimulus Presentations and Participants')\n",
    "plt.show()\n",
    "#plt.savefig('figure_1.tiff', dpi=300, bbox_inches='tight')"
   ]
  },
  {
   "cell_type": "code",
   "execution_count": null,
   "id": "116739ae-7687-425d-99bd-0af70614b11c",
   "metadata": {},
   "outputs": [],
   "source": [
    "'''\n",
    "Create the second figure showing correlation between reliability and \n",
    "correlation to different models\n",
    "'''\n",
    "tmp = dfs['reliability_and_correlation']\n",
    "models = tmp.modelName.unique(); \n",
    "corrs  = [tmp[tmp.modelName == i].corr()['reliability']['correlation'] for i in models] \n",
    "        \n",
    "# Main Figure\n",
    "fig = plt.figure()\n",
    "ax = fig.add_subplot(111)\n",
    "sns.regplot(x='reliability',y='correlation',\n",
    "            data=tmp[tmp.modelName.isin(['Exp65'])], ci=None)\n",
    "sns.regplot(x='reliability',y='correlation',\n",
    "            data=tmp[tmp.modelName.isin(['w2v'])], ci=None)\n",
    "plt.legend(ax.collections[0:2:],['Experiential','Word2Vec'],title='Model')\n",
    "plt.title('Hello'); \n",
    "plt.annotate(f'$R^2 = {corrs[0]**2:.3f}$',[.32,.42],fontsize='x-large',color=palette[0])\n",
    "plt.annotate(f'$R^2 = {corrs[3]**2:.3f}$',[.62,.37],fontsize='x-large',color=palette[1])\n",
    "plt.show(); #plt.savefig()"
   ]
  },
  {
   "cell_type": "code",
   "execution_count": null,
   "id": "cf602c63-b1fe-40b2-aa56-aceef04ea379",
   "metadata": {},
   "outputs": [],
   "source": [
    "# Supplemental figure\n",
    "plt.figure()\n",
    "for idx,name in enumerate(models[1:]):\n",
    "    plt.subplot(2,3,idx+1)\n",
    "    sns.regplot(x='reliability',y='correlation',\n",
    "                data=tmp[tmp.modelName.isin([name])], ci=None)\n",
    "    plt.xlim([.1,.8]); plt.ylim([.1,.6])\n",
    "    plt.title(name); plt.xlabel(None); plt.ylabel(None)\n",
    "    plt.annotate(f'$R^2 = {corrs[idx+1]**2:.3f}$',[.2,.5],fontsize='x-large',color=palette[0])\n",
    "plt.show()"
   ]
  },
  {
   "cell_type": "code",
   "execution_count": null,
   "id": "dbb9ba09-7fc2-4ada-aa11-b112a998bf38",
   "metadata": {},
   "outputs": [],
   "source": [
    "'''\n",
    "Create figure that shows repetition suppression effect\n",
    "'''\n",
    "tmp = dfs['repetition_suppresion']\n",
    "# Main fig\n",
    "tmp2 = data=tmp[['subj','pres','ses','exp48']]\n",
    "fig = plt.figure()\n",
    "ax = fig.add_subplot(111)\n",
    "sns.barplot(x='ses',y='exp48',hue='pres',data=tmp2,alpha=.4)\n",
    "sns.stripplot(x='ses',y='exp48',hue='pres',data=tmp2,\n",
    "              dodge=True,edgecolor='black',linewidth=.5)\n",
    "plt.legend(ax.collections[:-2:],['1','2'],title='Presentation')\n",
    "plt.xlabel('Session'); plt.ylabel('Correlation with Experiential Model')\n",
    "plt.title('Presentation order and Correlation with Model')\n",
    "plt.show(); #plt.savefig('figure_3.tiff',dpi=300,bbox_inches='tight')"
   ]
  },
  {
   "cell_type": "code",
   "execution_count": null,
   "id": "8d3ae2e6-5885-4ed2-8aed-4a3adbd907eb",
   "metadata": {},
   "outputs": [],
   "source": [
    "# Supplement Fig\n",
    "plt.figure()\n",
    "names = ['exp48','sm8','glove','w2v','wordnet','cat10']\n",
    "for idx,name in enumerate(names):\n",
    "    plt.subplot(2,3,idx+1)\n",
    "    sns.barplot(x='ses',y=name,hue='pres',data=tmp[['subj','pres','ses',name]],alpha=.4)\n",
    "    sns.stripplot(x='ses',y=name,hue='pres',data=tmp[['subj','pres','ses',name]],\n",
    "                  dodge=True,edgecolor='black',linewidth=.5)\n",
    "    plt.legend().remove(); plt.title(name); plt.ylabel(None); plt.ylim([-.01,.07])\n",
    "plt.show()\n"
   ]
  },
  {
   "cell_type": "code",
   "execution_count": null,
   "id": "9934d33e-8de8-46fa-b337-4675e315526c",
   "metadata": {},
   "outputs": [],
   "source": [
    "'''\n",
    "This figure shows different presentation combinations\n",
    "'''\n",
    "order  = ['icc_246','icc_123','icc_1234','icc_135','icc_1235','icc_123456']\n",
    "labels = ['2-4-6','1-2-3','1-2-3-4','1-3-5','1-2-3-5','1-2-3-4-5-6']\n",
    "# Main figure\n",
    "plt.figure()\n",
    "tmp = dfs['model_presentation_combinations']\n",
    "sns.barplot(x='comb',y='crea65',color=palette[0], data=tmp,alpha=.4,order=order)\n",
    "sns.stripplot(x='comb',y='crea65',color=palette[0],data=tmp, order=order)\n",
    "plt.xticks(ticks=[0,1,2,3,4,5],labels=labels);\n",
    "plt.xlabel('Presentation Combination'); plt.ylabel('Correlation with Experiential Model');\n",
    "plt.show(); #plt.savefig('figure_4.tiff',dpi=300,bbox_inches='tight')"
   ]
  },
  {
   "cell_type": "code",
   "execution_count": null,
   "id": "a6d69c8f-5f15-4e91-af03-621f40b2fc5c",
   "metadata": {},
   "outputs": [],
   "source": [
    "# Supplemental with cronbach\n",
    "plt.figure()\n",
    "tmp = dfs['cron_fig_combination']; \n",
    "sns.barplot(x='comb',y='cron',color=palette[0], data=tmp,alpha=.4,order=order)\n",
    "plt.xticks(ticks=[0,1,2,3,4,5],labels=labels);\n",
    "plt.xlabel('Presentation Combination'); plt.ylabel(\"Cronbach's Alpha\");\n",
    "plt.show(); #plt.savefig('figure_4.tiff',dpi=300,bbox_inches='tight')"
   ]
  },
  {
   "cell_type": "code",
   "execution_count": null,
   "id": "fedc3dde-a251-4300-92d5-3f6ca050a765",
   "metadata": {},
   "outputs": [],
   "source": [
    "'''\n",
    "Generates noise ceiling figure\n",
    "'''\n",
    "tmp = dfs['noise_ceiling']\n",
    "tmp2 = dfs['noise_ceil_estimate']\n",
    "\n",
    "plt.figure()\n",
    "sns.stripplot(x='numSubj',y='value',hue='measure',data=tmp)\n",
    "sns.lineplot(x=np.arange(len(tmp2)),y='eln',data=tmp2)\n",
    "plt.axhline(tmp2.asymptote[0], color='black')\n",
    "plt.show(); #plt.savefig()"
   ]
  },
  {
   "cell_type": "code",
   "execution_count": null,
   "id": "3a8faaf4-26c5-4c4b-9d21-5a0cc640b06c",
   "metadata": {},
   "outputs": [],
   "source": []
  }
 ],
 "metadata": {
  "kernelspec": {
   "display_name": "Python 3 (ipykernel)",
   "language": "python",
   "name": "python3"
  },
  "language_info": {
   "codemirror_mode": {
    "name": "ipython",
    "version": 3
   },
   "file_extension": ".py",
   "mimetype": "text/x-python",
   "name": "python",
   "nbconvert_exporter": "python",
   "pygments_lexer": "ipython3",
   "version": "3.9.7"
  }
 },
 "nbformat": 4,
 "nbformat_minor": 5
}
