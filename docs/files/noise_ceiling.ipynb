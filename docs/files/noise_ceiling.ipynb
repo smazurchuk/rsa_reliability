{
 "cells": [
  {
   "cell_type": "markdown",
   "id": "0594bdec-b939-4ec6-adc2-a78d16cac807",
   "metadata": {},
   "source": [
    "# Noise Ceiling Analysis\n",
    "\n",
    "This script demonstrates the lower noise ceiling bound's slow convergence"
   ]
  },
  {
   "cell_type": "code",
   "execution_count": 1,
   "id": "f8ee0540-912b-43b7-91bc-9137824a6495",
   "metadata": {},
   "outputs": [
    {
     "name": "stdout",
     "output_type": "stream",
     "text": [
      "Imports loadaed!\n"
     ]
    }
   ],
   "source": [
    "import numpy as np\n",
    "import pandas as pd\n",
    "import matplotlib.pyplot as plt\n",
    "from scipy.spatial.distance import pdist, cdist, correlation\n",
    "%matplotlib inline\n",
    "print ('Imports loadaed!')"
   ]
  },
  {
   "cell_type": "code",
   "execution_count": 2,
   "id": "06ef6b91-67c2-4311-a69a-1e2e6d488e4a",
   "metadata": {},
   "outputs": [],
   "source": [
    "# Pingoun cannot be imported, so I've copied the function here\n",
    "# Copied from: https://github.com/raphaelvallat/pingouin/blob/f663e4e50e1504d8bd10030ee7da9cc38b9edd0e/pingouin/reliability.py\n",
    "def cronbach_alpha(data,items=None, scores=None, subject=None,nan_policy=\"pairwise\"):\n",
    "    assert isinstance(data, pd.DataFrame), \"data must be a dataframe.\"\n",
    "    assert nan_policy in [\"pairwise\", \"listwise\"]\n",
    "\n",
    "    if all([v is not None for v in [items, scores, subject]]):\n",
    "        # Data in long-format: we first convert to a wide format\n",
    "        data = data.pivot(index=subject, values=scores, columns=items)\n",
    "\n",
    "    # From now we assume that data is in wide format\n",
    "    n, k = data.shape\n",
    "    assert k >= 2, \"At least two items are required.\"\n",
    "    assert n >= 2, \"At least two raters/subjects are required.\"\n",
    "    err = \"All columns must be numeric.\"\n",
    "    assert all([data[c].dtype.kind in \"bfiu\" for c in data.columns]), err\n",
    "    if data.isna().any().any() and nan_policy == \"listwise\":\n",
    "        # In R = psych:alpha(data, use=\"complete.obs\")\n",
    "        data = data.dropna(axis=0, how=\"any\")\n",
    "\n",
    "    # Compute covariance matrix and Cronbach's alpha\n",
    "    C = data.cov()\n",
    "    cronbach = (k / (k - 1)) * (1 - np.trace(C) / C.sum().sum())\n",
    "    # which is equivalent to\n",
    "    # v = np.diag(C).mean()\n",
    "    # c = C.to_numpy()[np.tril_indices_from(C, k=-1)].mean()\n",
    "    # cronbach = (k * c) / (v + (k - 1) * c)\n",
    "    return cronbach"
   ]
  },
  {
   "cell_type": "code",
   "execution_count": 3,
   "id": "bdc75d71-5d75-41ac-96c4-8ecab0023876",
   "metadata": {},
   "outputs": [
    {
     "data": {
      "text/plain": [
       "[<matplotlib.lines.Line2D at 0x7fd735e55880>,\n",
       " <matplotlib.lines.Line2D at 0x7fd735e557f0>,\n",
       " <matplotlib.lines.Line2D at 0x7fd735e559d0>]"
      ]
     },
     "execution_count": 3,
     "metadata": {},
     "output_type": "execute_result"
    },
    {
     "data": {
      "image/png": "[encoded data removed]",
      "text/plain": [
       "<Figure size 432x288 with 1 Axes>"
      ]
     },
     "metadata": {
      "needs_background": "light"
     },
     "output_type": "display_data"
    }
   ],
   "source": [
    "numPoints = 10000\n",
    "numPeople = 50\n",
    "\n",
    "rng = np.random.default_rng(42)\n",
    "signal    = np.sin(np.linspace(0,2*np.pi,numPoints)) \n",
    "noise_std = 3\n",
    "tmp = []\n",
    "for i in range(numPeople):\n",
    "    noise = rng.normal(0,noise_std,numPoints)\n",
    "    tmp.append(signal + noise)\n",
    "samples = np.array(tmp)\n",
    "\n",
    "# Mean subtract and center samples\n",
    "samples = samples - samples.mean(1,keepdims=True)\n",
    "samples = samples / samples.std(1,keepdims=True)\n",
    "\n",
    "\n",
    "# Plot lower and upper noise\n",
    "def lowerN(samples):\n",
    "    inds = np.arange(len(samples))\n",
    "    r = np.array([1-correlation(samples[i], samples[i!=inds].mean(0)) for i in range(len(samples))])\n",
    "    return r.mean()\n",
    "\n",
    "def upperN(samples):\n",
    "    tmp = samples.mean(0)\n",
    "    r = np.array([1-correlation(samples[i],tmp) for i in range(len(samples))])\n",
    "    return r.mean()\n",
    "\n",
    "def cronbach(samples):\n",
    "    tmp = pd.DataFrame(samples)\n",
    "    a = cronbach_alpha(tmp.T)\n",
    "    return a    \n",
    "    \n",
    "lower=[]; upper=[]; crona=[]\n",
    "for i in range(2,len(samples)):\n",
    "    lower.append(lowerN(samples[:i]))\n",
    "    upper.append(upperN(samples[:i]))\n",
    "    crona.append(cronbach(samples[:i]))\n",
    "    \n",
    "plt.plot(np.arange(2,len(samples)),np.c_[lower, upper, crona],'-o')"
   ]
  },
  {
   "cell_type": "code",
   "execution_count": 10,
   "id": "5681763a-c9b9-4cf7-a064-a4d7392093ae",
   "metadata": {},
   "outputs": [
    {
     "data": {
      "text/plain": [
       "<matplotlib.collections.PathCollection at 0x7f7b2d7b6250>"
      ]
     },
     "execution_count": 10,
     "metadata": {},
     "output_type": "execute_result"
    },
    {
     "data": {
      "image/png": "[encoded data removed]",
      "text/plain": [
       "<Figure size 432x288 with 1 Axes>"
      ]
     },
     "metadata": {
      "needs_background": "light"
     },
     "output_type": "display_data"
    }
   ],
   "source": [
    "# Plot the two reliability metrics against eachother\n",
    "plt.scatter(crona,lower)"
   ]
  },
  {
   "cell_type": "markdown",
   "id": "0ac0b4ec-7318-406e-a73c-ccf38b6ab977",
   "metadata": {},
   "source": [
    "# Verify Method\n",
    "\n",
    "This is a sanity check to ensure that the estimated asymptotic value is (close) to the true analytic value"
   ]
  },
  {
   "cell_type": "code",
   "execution_count": 17,
   "id": "c509fbdf-1473-4267-af36-cf6570e315c3",
   "metadata": {},
   "outputs": [
    {
     "name": "stdout",
     "output_type": "stream",
     "text": [
      "Actual Limit: \t\t 0.236 \n",
      "Estimated Limit: \t 0.229\n"
     ]
    }
   ],
   "source": [
    "numPoints = 1000\n",
    "numPeople = 500\n",
    "\n",
    "rng = np.random.default_rng(42)\n",
    "signal    = np.sin(np.linspace(0,2*np.pi,numPoints)) \n",
    "noise_std = 3\n",
    "tmp = []\n",
    "for i in range(numPeople):\n",
    "    noise = rng.normal(0,noise_std,numPoints)\n",
    "    tmp.append(signal + noise)\n",
    "samples = np.array(tmp)\n",
    "\n",
    "# Mean subtract and center samples\n",
    "samples = samples - samples.mean(1,keepdims=True)\n",
    "samples = samples / samples.std(1,keepdims=True)\n",
    "\n",
    "def schope(samples):\n",
    "    N = samples.shape[0]\n",
    "    SP = samples.sum(0).var() - samples.var(1).sum() / (N*(N-1)) # Signal Power\n",
    "    TP = (N-1)*samples.var(1).sum()\n",
    "    asymptote = np.sqrt(SP/TP)\n",
    "    return asymptote\n",
    "\n",
    "def EstimateLN(subjRDMs):\n",
    "    N = subjRDMs.shape[0]      # Total number of subjects\n",
    "    A = subjRDMs.var(1, ddof=1).mean() # Mean of variance\n",
    "    D = subjRDMs.mean(0).var()   # Variance of mean\n",
    "    B = (A-(N*D))/(1-N)     # Estimated Signal Variance\n",
    "    C = (A-D)/(1-(1/N))     # Estimated Noise Variance\n",
    "    asymptote = B / (np.sqrt(A)*np.sqrt(B))\n",
    "    return asymptote\n",
    "asymptote = EstimateLN(samples)\n",
    "print(f'Actual Limit: \\t\\t {np.sqrt(.5) / noise_std:.3f} \\nEstimated Limit: \\t {asymptote:.3f}')\n",
    "#print(schope(samples))"
   ]
  },
  {
   "cell_type": "code",
   "execution_count": 7,
   "id": "3b8958ad-cdfa-49de-b449-6269ce0c9d35",
   "metadata": {},
   "outputs": [
    {
     "data": {
      "text/plain": [
       "0.23570226039551587"
      ]
     },
     "execution_count": 7,
     "metadata": {},
     "output_type": "execute_result"
    }
   ],
   "source": [
    "np.sqrt(.5)/3"
   ]
  },
  {
   "cell_type": "markdown",
   "id": "d97eca66-9848-4c30-839b-b640401e9c05",
   "metadata": {},
   "source": [
    "$$ x^2 + y^2 < y |x| + 14 $$"
   ]
  },
  {
   "cell_type": "code",
   "execution_count": 14,
   "id": "c2ba8b59-eaa9-4821-a9c0-c3eff80c7a74",
   "metadata": {},
   "outputs": [
    {
     "data": {
      "text/plain": [
       "0.9703389830508475"
      ]
     },
     "execution_count": 14,
     "metadata": {},
     "output_type": "execute_result"
    }
   ],
   "source": [
    ".229/.236"
   ]
  },
  {
   "cell_type": "code",
   "execution_count": null,
   "id": "4600f41d-172a-433b-b7ac-ec4e5f81dc22",
   "metadata": {},
   "outputs": [],
   "source": []
  }
 ],
 "metadata": {
  "kernelspec": {
   "display_name": "Python 3 (ipykernel)",
   "language": "python",
   "name": "python3"
  },
  "language_info": {
   "codemirror_mode": {
    "name": "ipython",
    "version": 3
   },
   "file_extension": ".py",
   "mimetype": "text/x-python",
   "name": "python",
   "nbconvert_exporter": "python",
   "pygments_lexer": "ipython3",
   "version": "3.9.7"
  }
 },
 "nbformat": 4,
 "nbformat_minor": 5
}
